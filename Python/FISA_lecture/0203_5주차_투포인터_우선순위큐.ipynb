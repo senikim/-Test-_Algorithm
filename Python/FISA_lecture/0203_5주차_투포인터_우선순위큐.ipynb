{
  "nbformat": 4,
  "nbformat_minor": 0,
  "metadata": {
    "colab": {
      "provenance": [],
      "authorship_tag": "ABX9TyOj1idFGwsO0KJFvREJPJiY"
    },
    "kernelspec": {
      "name": "python3",
      "display_name": "Python 3"
    },
    "language_info": {
      "name": "python"
    }
  },
  "cells": [
    {
      "cell_type": "markdown",
      "source": [
        "## 투 포인터"
      ],
      "metadata": {
        "id": "5nWtW6Koa709"
      }
    },
    {
      "cell_type": "markdown",
      "source": [
        "##### 1. 수들의 합2\n",
        "주어진 수열 -> 특정한 범위의 합이 M이 되는 경우의 수\n",
        "- 시간제한 조건 있음\n",
        "    - for문 : O(n), 이중for문 쓰면 O(n^2) 돼서 시간초과됨\n"
      ],
      "metadata": {
        "id": "lVwvspWHbBRv"
      }
    },
    {
      "cell_type": "code",
      "execution_count": null,
      "metadata": {
        "id": "TGp0rUCWaxxP"
      },
      "outputs": [],
      "source": [
        "n, m = map(int, input().split())\n",
        "A = list(map(int, input().split()))\n",
        "\n",
        "left = right = sum_value = count = 0\n",
        "# [left : 시작 점]\n",
        "# [right : 끝 점 ]\n",
        "\n",
        "# 배열 탐색 반복\n",
        "while True:\n",
        "    if sum_value >= m:\n",
        "        sum_value -= A[left]\n",
        "            # [A[i]+...+A[j] 가 M을 초과하게 되면 행렬의 왼쪽 범위를 줄여가면서 다시 합을 빼고 진행]\n",
        "        left += 1\n",
        "    elif right == n :\n",
        "        # [right가 행렬의 끝 행까지 이동한 것]\n",
        "        break\n",
        "    else :\n",
        "        sum_value += A[right]\n",
        "        right += 1\n",
        "    if sum_value == m:\n",
        "        count += 1\n",
        "\n",
        "print(count)"
      ]
    },
    {
      "cell_type": "markdown",
      "source": [
        "##### 2. 주몽\n",
        "자신이 만들고 있는 재료로 갑옷을 몇 개나 만들 수 있는지 (자료의 개수 N, 갑옷 만드는데 필요한 수 M)\n",
        "- 두 재료의 고유번호 합해서 M이 되면 갑옷 만들어짐"
      ],
      "metadata": {
        "id": "Uhk8Za3UnunP"
      }
    },
    {
      "cell_type": "code",
      "source": [
        "# 정답풀이\n",
        "N = int(input())\n",
        "M = int(input())\n",
        "arr = list(map(int, input().split()))\n",
        "\n",
        "# 모든 합의 경우를 고려하기 위해서 오름차순 정렬 (각각 left : 가장 작은 수, right : 가장 큰 수 에서 시작)\n",
        "arr.sort()\n",
        "\n",
        "left = count = sum_value = 0\n",
        "right = N-1\n",
        "    # [자기 자신 두 개의 재료를 모으면 안되고 다른 두 개의 재료를 모아야 하기 때문]\n",
        "\n",
        "while left < right :\n",
        "    # 현재 합 계산\n",
        "    sum_value = arr[left] + arr[right]\n",
        "\n",
        "    # 합 == M : count+=1, left += 1, right -= 1\n",
        "    if sum_value == M:\n",
        "        count += 1\n",
        "        left += 1\n",
        "        right -= 1\n",
        "    # 합 < M\n",
        "    elif sum_value < M :\n",
        "        left += 1\n",
        "    # 합 > M\n",
        "    else :\n",
        "        right -= 1\n",
        "print(count)"
      ],
      "metadata": {
        "colab": {
          "base_uri": "https://localhost:8080/"
        },
        "id": "fckm7CckqsCC",
        "outputId": "1155ad49-3633-4d6e-d2d4-8fded23e6f6e"
      },
      "execution_count": 3,
      "outputs": [
        {
          "output_type": "stream",
          "name": "stdout",
          "text": [
            "6\n",
            "9\n",
            "2 7 4 1 5 3\n",
            "2\n"
          ]
        }
      ]
    },
    {
      "cell_type": "markdown",
      "source": [
        "\n",
        "\n",
        "```\n",
        "# 풀이2 - 틀림. 근데 어디가 틀린지 모르겠음, 찾아봐야 함\n",
        "N = int(input())\n",
        "M = int(input())\n",
        "N_list = list(map(int, input().split()))\n",
        "\n",
        "left = right = sum_value = count = 0\n",
        "\n",
        "while True:\n",
        "    if sum_value >= M:\n",
        "        sum_value -= N_list[left]\n",
        "        left += 1\n",
        "    elif right == N:\n",
        "        break\n",
        "    else :\n",
        "        sum_value = N_list[left] + N_list[right]\n",
        "        right += 1\n",
        "    if sum_value == M:\n",
        "        count += 1\n",
        "\n",
        "print(count)\n",
        "```\n",
        "\n"
      ],
      "metadata": {
        "id": "ty5Bi1rqA-yU"
      }
    },
    {
      "cell_type": "markdown",
      "source": [
        "## 우선순위 큐"
      ],
      "metadata": {
        "id": "cPiqPtEq2lSH"
      }
    },
    {
      "cell_type": "markdown",
      "source": [
        "##### 1. 절댓값 힙\n",
        "\n",
        "배열에서 절댓값이 가장 작은 값을 출력하고, 그 값을 배열에서 제거한다.\n",
        "- 우선순위를 절댓값으로 지정해달라\n",
        "\n",
        "절댓값이 가장 작은 값이 여러개일 때는, 가장 작은 수를 출력하고, 그 값을 배열에서 제거한다.<br>\n",
        "연산의 개수 N, 연산에 대한 정보를 나타내는 정수 x\n",
        "-  만약 x != 0이면 배열에 x라는 값을 넣는(추가하는) 연산이고\n",
        "- x가 0이라면 배열에서 절댓값이 가장 작은 값을 출력하고 그 값을 배열에서 제거하는 경우이다."
      ],
      "metadata": {
        "id": "v8wuCiUq2m79"
      }
    },
    {
      "cell_type": "code",
      "source": [
        "from queue import PriorityQueue\n",
        "import sys\n",
        "\n",
        "input = lambda : sys.stdin.readline().rstrip()   # 입력을 빠르게 받기 위한 함수\n",
        "print = lambda x : sys.stdout.write(str(x)+\"\\n\") # 출력을 빠르게 하기 위한 함수\n",
        "\n",
        "N = int(input())    # 연산의 개수 N을 입력받음\n",
        "pq = PriorityQueue()\n",
        "\n",
        "# N번의 연산을 수행\n",
        "for i in range(n):\n",
        "    x = int(input())    # 정수 x를 입력받음\n",
        "\n",
        "    # x가 0이면, 우선순위 큐에서 가장 작은 값을 출력하고 제거\n",
        "    # 큐가 비어있으면 0을 출력\n",
        "    if x == 0:\n",
        "        if pq.empty():\n",
        "            print(0)\n",
        "        else:\n",
        "            print(pq.get()[1])\n",
        "    # x가 0이 아니면 x를 우선순위 큐에 추가\n",
        "    # 우선순위 큐의 정렬 기준은 절댓값이 작은 순, 절댓값이 같으면 실제 값이 작은 순\n",
        "    else:\n",
        "        pq.put(abs(x), x)\n",
        "            # [abs(x) : 우선순위 설정한 값, x : 정렬 값]"
      ],
      "metadata": {
        "id": "g9cP33jMxD3n"
      },
      "execution_count": null,
      "outputs": []
    },
    {
      "cell_type": "markdown",
      "source": [
        "##### 2. 카드 정렬하기"
      ],
      "metadata": {
        "id": "BS7svFV49rZO"
      }
    },
    {
      "cell_type": "code",
      "source": [],
      "metadata": {
        "id": "ZlC9avkh9uD3"
      },
      "execution_count": null,
      "outputs": []
    }
  ]
}