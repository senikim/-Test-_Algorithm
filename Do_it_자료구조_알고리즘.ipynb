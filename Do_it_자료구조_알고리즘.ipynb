{
  "nbformat": 4,
  "nbformat_minor": 0,
  "metadata": {
    "colab": {
      "provenance": [],
      "authorship_tag": "ABX9TyO7cWAEis9mfejaG61Q3i00"
    },
    "kernelspec": {
      "name": "python3",
      "display_name": "Python 3"
    },
    "language_info": {
      "name": "python"
    }
  },
  "cells": [
    {
      "cell_type": "markdown",
      "source": [
        "### 01. 알고리즘 기초\n",
        "#### 1) While 문 반복\n",
        "\n",
        "- 어떤 조건이 성립하는 동안 반복해서 처리하는 반복 구조 = 루프\n",
        "- 사전 판단 반복 구조 : 실행 전 반복할 것인지 판단하는 구조\n"
      ],
      "metadata": {
        "id": "JWjLWd9LQ9oy"
      }
    },
    {
      "cell_type": "code",
      "execution_count": null,
      "metadata": {
        "colab": {
          "base_uri": "https://localhost:8080/"
        },
        "id": "dsNkYJL-N0gg",
        "outputId": "a3c3a09f-591c-4ddf-80bd-85f7dd82a573"
      },
      "outputs": [
        {
          "output_type": "stream",
          "name": "stdout",
          "text": [
            "n값을 입력하세요. :3\n",
            "1부터 3까지 정수의 합은 4이다.\n"
          ]
        }
      ],
      "source": [
        "# 1부터 n까지 정수의 합을 구하라\n",
        "\n",
        "n = int(input('n값을 입력하세요. :'))\n",
        "  # [int : 정수로 변환, input : 직접 입력]\n",
        "\n",
        "sum = 0\n",
        "i = 0\n",
        "\n",
        "while i <= n :\n",
        "  sum += 1\n",
        "  i += 1\n",
        "\n",
        "print(f'1부터 {n}까지 정수의 합은 {sum}이다.')"
      ]
    },
    {
      "cell_type": "markdown",
      "source": [
        "#### 2) For문 반복\n",
        "\n",
        "- 변수가 하나만 있을 때 while문 보다 for문을 사용하는 것이 좋다."
      ],
      "metadata": {
        "id": "lMs8wTKKSQ3i"
      }
    },
    {
      "cell_type": "code",
      "source": [
        "# 1부터 n까지 정수의 합 구하기 (for문)\n",
        "\n",
        "n = int(input('n값을 입력하세요 :'))\n",
        "\n",
        "sum = 0\n",
        "for i in range(1, n+1):\n",
        "  # [for문 range(n, ) (n!=0)일 때 뒤에 오는 끝 값에서 +n을 해야 함.]\n",
        "  sum += i\n",
        "\n",
        "print(f\"1부터 {n}까지 정수의 합은 {sum}이다.\")"
      ],
      "metadata": {
        "colab": {
          "base_uri": "https://localhost:8080/"
        },
        "id": "B16L6no8SQnY",
        "outputId": "26fbc123-998f-4e9a-cdcc-7a1e0dbfc62f"
      },
      "execution_count": null,
      "outputs": [
        {
          "output_type": "stream",
          "name": "stdout",
          "text": [
            "n값을 입력하세요 :3942\n",
            "1부터 3942까지 정수의 합은 7771653이다.\n"
          ]
        }
      ]
    },
    {
      "cell_type": "markdown",
      "source": [
        "##### 3) 가우스의 덧셈\n",
        "\n",
        "- n*(n+1)//2"
      ],
      "metadata": {
        "id": "A7wtAgZ3ezpd"
      }
    },
    {
      "cell_type": "markdown",
      "source": [
        "##### 연속하는 정수의 합을 구하기 위해 값 정렬하기\n",
        "\n",
        "- 시작하는 값이 1이 아닌 정수를 받았다면 range() 함수에 전달할 시작값과 끝값을 오름차순으로 정리해야 함."
      ],
      "metadata": {
        "id": "EIOM2jGffajl"
      }
    },
    {
      "cell_type": "code",
      "source": [
        "# a부터 b까지 정수의 합 구하기 (for문)\n",
        "\n",
        "a = int(input('a :'))\n",
        "b = int(input('b :'))\n",
        "\n",
        "if a > b :\n",
        "  a, b = b, a\n",
        "  # a, b 오름차순으로 정렬\n",
        "\n",
        "sum = 0\n",
        "for i in range(a, b+1):\n",
        "  sum += i\n",
        "\n",
        "print(f'{a}부터 {b}까지 정수의 합은 {sum}이다.')"
      ],
      "metadata": {
        "colab": {
          "base_uri": "https://localhost:8080/"
        },
        "id": "dURkraBHexxg",
        "outputId": "b9732003-ee3c-4741-a962-ff91fc57debb"
      },
      "execution_count": null,
      "outputs": [
        {
          "output_type": "stream",
          "name": "stdout",
          "text": [
            "a :4\n",
            "b :90\n",
            "4부터 90까지 정수의 합은 4089이다.\n"
          ]
        }
      ]
    },
    {
      "cell_type": "markdown",
      "source": [
        "##### 반복조건에서 조건 판단하기 2\n",
        "- +와 -를 번갈아 출력하기"
      ],
      "metadata": {
        "id": "qGC33VXlfB-b"
      }
    },
    {
      "cell_type": "code",
      "source": [
        "# +와 -를 번갈아 출력하기\n",
        "\n",
        "input('+와 -를 번갈아 출력합니다.')\n",
        "n = int(input('몇 개를 출력할까요?:'))\n",
        "\n",
        "for i in range(n):\n",
        "  if i % 2:\n",
        "    print('-')"
      ],
      "metadata": {
        "id": "HduhC7L2e_a8"
      },
      "execution_count": null,
      "outputs": []
    },
    {
      "cell_type": "code",
      "source": [],
      "metadata": {
        "id": "qpi73FB4R2p6"
      },
      "execution_count": null,
      "outputs": []
    }
  ]
}
