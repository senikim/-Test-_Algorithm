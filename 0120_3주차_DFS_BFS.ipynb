{
  "nbformat": 4,
  "nbformat_minor": 0,
  "metadata": {
    "colab": {
      "provenance": [],
      "authorship_tag": "ABX9TyMqnVNZQIxeZuPOxpLammYl"
    },
    "kernelspec": {
      "name": "python3",
      "display_name": "Python 3"
    },
    "language_info": {
      "name": "python"
    }
  },
  "cells": [
    {
      "cell_type": "markdown",
      "source": [
        "1. DFS와 BFS\n",
        "\n",
        "- 연결(간선)을 명시하는 방식 : ex (1,3)\n",
        "- 연결(간선)을 체크하는 방식 : boolean, T/F\n",
        "\n",
        "- 문제풀이 방법\n",
        "    - dfs : 재귀함수 -> 메모리차지 : 완전탐색할 때만 쓰는 걸 추천\n",
        "    - dfs : 후입선출(stack, deque*) 자료구조 이용 <br> *deque = dfs/bfs 둘 다 진행\n",
        "    - bfs : 선입선출(queue) 자료구조 이용"
      ],
      "metadata": {
        "id": "NMN1lkd7QxWQ"
      }
    },
    {
      "cell_type": "code",
      "source": [
        "import numpy as np\n",
        "import pandas as pd"
      ],
      "metadata": {
        "id": "P2kZorrMWksw"
      },
      "execution_count": null,
      "outputs": []
    },
    {
      "cell_type": "code",
      "source": [
        "from collections import deque\n",
        "import sys\n",
        "from pprint import pprint\n",
        "# input = lambda: sys.stdin.readline().rstrip()"
      ],
      "metadata": {
        "id": "RpXcGyKce5tP"
      },
      "execution_count": null,
      "outputs": []
    },
    {
      "cell_type": "code",
      "execution_count": null,
      "metadata": {
        "colab": {
          "base_uri": "https://localhost:8080/"
        },
        "id": "w_RcJT7iC3a5",
        "outputId": "ce6bc6c5-cf43-4dfb-aa03-1f98e383ef4f"
      },
      "outputs": [
        {
          "output_type": "stream",
          "name": "stdout",
          "text": [
            "5 5 3\n",
            "5 4\n",
            "5 2\n",
            "1 2\n",
            "3 4\n",
            "3 1\n",
            "3 1 2 5 4 \n",
            "3 1 2 5 4 \n",
            "3 1 4 2 5 "
          ]
        }
      ],
      "source": [
        "# n : 정점의 개수, m : 간선의 개수, v: 탐색 시작할 정점의 번호\n",
        "n,m,v = map(int, input().split())\n",
        "\n",
        "# 그래프 초기화\n",
        "graph = [[False]*(n+1) for _ in range(n+1)]\n",
        "    # [0번째 인덱스를 쓰지 않는 대신, 인덱스와 정점 간 계산의 편의성]\n",
        "    # [6*6 그래프 : 노드 들 간의 관계를 보기 위해 만든 그래프]\n",
        "\n",
        "for i in range(m):\n",
        "    a, b = map(int, input().split())\n",
        "    graph[a][b] = True\n",
        "    graph[b][a] = True\n",
        "    # [a, b가 연결되어 있다고 입력하면, 노드들의 관계를 나타낸 graph에서 연결이 가능하다는 표시로 True를 입력]\n",
        "    # [graph에서 True인 애들로만 이동]\n",
        "\n",
        "# 1-1) dfs 재귀\n",
        "def dfs(node, visit):\n",
        "    # [visit : 방문체크 행렬]\n",
        "    # [node : 1, visit : [False]*(n+1)]\n",
        "    visit[node] = True\n",
        "    print(node, end=' ')\n",
        "    for i in range(1, len(visit)):\n",
        "        # [index 0 제외]\n",
        "        # [visit의 행 수]\n",
        "        if graph[node][i] and not visit[i]:\n",
        "                # [graph에서 연결이 되어있음(True)+방문하지 않은 노드(not True)]\n",
        "            dfs(i, visit)\n",
        "\n",
        "# 1-2) dfs stack\n",
        "def dfs2(node, visit):\n",
        "    stack = deque()\n",
        "    stack.append(node)  # 첫번째 노드를 삽입\n",
        "    while stack:\n",
        "        next_node = stack.pop()\n",
        "            # [next_node에 가장 나중에 들어간 원소 삽입(pop)]\n",
        "        if visit[next_node] : continue\n",
        "        visit[next_node] = True\n",
        "            # [next_node 방문하면 True로 방문처리]\n",
        "        print(next_node, end=' ')\n",
        "            # [방문한 노드 출력]\n",
        "        for i in range(len(visit)-1, 0, -1):\n",
        "            # [stack은 후입선출 구조이기 때문에 애초에 stack에 넣어줄 때 순서를 역전하여 넣어줘야 함.]\n",
        "            if graph[next_node][i] :    # 간선 연결이 되어있으면 append\n",
        "                stack.append(i)\n",
        "            else : continue\n",
        "\n",
        "# 2) bfs\n",
        "def bfs(node, visit):\n",
        "    queue = deque()\n",
        "    queue.appendleft(node) # 후입후출(queue)\n",
        "    while queue:\n",
        "        next_node = queue.pop()\n",
        "        if visit[next_node] : continue\n",
        "            # [next_node가 방문된 노드면 무시]\n",
        "        visit[next_node] = True\n",
        "            # [next_node 방문처리]\n",
        "        print(next_node, end=' ')\n",
        "            # [방문 노드 출력]\n",
        "        for i in range(1, len(visit)):\n",
        "            if not graph[next_node] : continue\n",
        "            queue.appendleft(i)\n",
        "                # [queue에 후입]\n",
        "\n",
        "dfs(v, [False]*(n+1))\n",
        "print()\n",
        "dfs2(v, [False]*(n+1))\n",
        "print()\n",
        "bfs(v, [False]*(n+1))"
      ]
    },
    {
      "cell_type": "markdown",
      "source": [
        "2. 숫자판 점프"
      ],
      "metadata": {
        "id": "ntF-gb0Era18"
      }
    },
    {
      "cell_type": "code",
      "source": [
        "# 이동할 때 한 번 거쳤던 칸을 다시 거쳐도 됨 -> 중복처리 안해도 되나\n",
        "# 임의의 위치에서 시작 -> dfs() 파라미터로 지정\n",
        "# 5번 이동 -> for range(4)\n",
        "# 각 칸에 적혀있는 모든 숫자 붙이기 -> dfs?\n",
        "# 서로 다른 여섯자리 수들의 개수 : set()\n",
        "\n",
        "# 1) DFS 재귀\n",
        "# 숫자판 입력\n",
        "board = [list(map(int, input().split())) for _ in range(5)]\n",
        "    # [숫자판 5*5 ; 행 하나씩 입력 & 5번 반복]\n",
        "numbers = set()\n",
        "    # [만들어진 숫자들을 numbers에 입력 -> set으로 중복제거]\n",
        "\n",
        "def dfs(x, y, depth, num):\n",
        "    # [x,y : 시작점, depth : 몇번 째 실행인지의 자릿수, num : 탐색 결과 만들어지는 숫자]\n",
        "\n",
        "    # 6자리 수 완성\n",
        "    if depth == 6:\n",
        "        numbers.add(num)\n",
        "        return\n",
        "    # 제약조건(경계)을 어겼을 때\n",
        "    if x<0 or x>=5 or y<0 or y>=5 :\n",
        "        return\n",
        "    # 상하좌우 이동\n",
        "    dfs(x+1, y, depth+1, num*10+board[x][y])\n",
        "        # [num*10+board[x][y] : 이제까지 만들어진 숫자를 자릿수 하나 올려서 현재 위치에 있는 숫자(board[x][y])앞에 붙이는 과정을 반복]\n",
        "        # [new_num = board[x][y] : 현재 방문한 위치에 있는 수 (number 뒤에 추가되는 숫자)]\n",
        "    dfs(x-1, y, depth+1, num*10+board[x][y])\n",
        "    dfs(x, y+1, depth+1, num*10+board[x][y])\n",
        "    dfs(x, y-1, depth+1, num*10+board[x][y])\n",
        "\n",
        "# 모든 시작첨에 대해 DFS실행\n",
        "numbers.clear()\n",
        "for x in range(5):\n",
        "    for y in range(5):\n",
        "        dfs(x,y,0,0)\n",
        "print(len(numbers))\n",
        "    # [numbers 안에 있는 원소의 개수 출력]"
      ],
      "metadata": {
        "colab": {
          "base_uri": "https://localhost:8080/"
        },
        "id": "CSmDsP6griLP",
        "outputId": "d4a31fc2-529a-4aed-dab7-f15bc2a1bc8c"
      },
      "execution_count": null,
      "outputs": [
        {
          "output_type": "stream",
          "name": "stdout",
          "text": [
            "1 1 1 1 1 \n",
            "1 1 1 1 1 \n",
            "1 1 1 1 1\n",
            "1 1 1 2 1\n",
            "1 1 1 1 1 \n",
            "15\n"
          ]
        }
      ]
    },
    {
      "cell_type": "code",
      "source": [
        "def dfs_by_stack(r, c):\n",
        "    stack = deque()\n",
        "    stack.append([r, c, 0, 0])\n",
        "    while stack:\n",
        "        next_r, next_c, depth, num = stack.pop()\n",
        "        if depth == 6 or next_r < 0 or next_r >= 5 or next_c < 0 or next_c >= 5:\n",
        "            if depth == 6: numbers.add(num)\n",
        "            continue\n",
        "        new_num = num * 10 + board[next_r][next_c]\n",
        "        # 상하좌우 이동\n",
        "        stack.append([next_r + 1, next_c, depth + 1, new_num])\n",
        "        stack.append([next_r - 1, next_c, depth + 1, new_num])\n",
        "        stack.append([next_r, next_c + 1, depth + 1, new_num])\n",
        "        stack.append([next_r, next_c - 1, depth + 1, new_num])\n"
      ],
      "metadata": {
        "id": "mPLNTvW9FRbo"
      },
      "execution_count": null,
      "outputs": []
    },
    {
      "cell_type": "code",
      "source": [
        "# 2) DFS stack\n",
        "board = [list(map(int, input().split())) for _ in range(5)]\n",
        "    # [숫자판 5*5 ; 행 하나씩 입력 & 5번 반복]\n",
        "numbers = set()\n",
        "    # [만들어진 숫자들을 numbers에 입력 -> set으로 중복제거]\n",
        "\n",
        "def dfs_stack(x, y):\n",
        "    stack = deque()\n",
        "    stack.append([x,y,0,0])\n",
        "    while stack:\n",
        "        next_x, next_y, depth, num = stack.pop()\n",
        "        if depth == 6 or next_x<0 or next_x>=5 or next_y<0 or next_y>=5:\n",
        "            if depth == 6 :\n",
        "                numbers.add(num)\n",
        "                continue\n",
        "        new_num = num*10+board[next_x][next_y]\n",
        "        stack.append([next_x + 1, next_y, depth +1, new_num])\n",
        "        stack.append([next_x - 1, next_y, depth +1, new_num])\n",
        "        stack.append([next_x, next_y + 1, depth +1, new_num])\n",
        "        stack.append([next_x, next_y - 1, depth +1, new_num])\n",
        "\n",
        "# 모든 시작점에 대해 실행\n",
        "numbers.clear()\n",
        "for x in range(5):\n",
        "    for y in range(5):\n",
        "        dfs_stack(x,y)\n",
        "# 정답 출력\n",
        "print(len(numbers))"
      ],
      "metadata": {
        "colab": {
          "base_uri": "https://localhost:8080/",
          "height": 473
        },
        "id": "b9Bw-R3rsFqA",
        "outputId": "b06f54c9-681c-4a3a-e4d5-c938b6ae512a"
      },
      "execution_count": null,
      "outputs": [
        {
          "name": "stdout",
          "output_type": "stream",
          "text": [
            "1 1 1 1 1\n",
            "1 1 1 1 1\n",
            "1 1 1 1 1\n",
            "1 1 1 2 1\n",
            "1 1 1 1 1\n"
          ]
        },
        {
          "output_type": "error",
          "ename": "IndexError",
          "evalue": "list index out of range",
          "traceback": [
            "\u001b[0;31m---------------------------------------------------------------------------\u001b[0m",
            "\u001b[0;31mIndexError\u001b[0m                                Traceback (most recent call last)",
            "\u001b[0;32m<ipython-input-25-91b4c272841c>\u001b[0m in \u001b[0;36m<cell line: 24>\u001b[0;34m()\u001b[0m\n\u001b[1;32m     24\u001b[0m \u001b[0;32mfor\u001b[0m \u001b[0mx\u001b[0m \u001b[0;32min\u001b[0m \u001b[0mrange\u001b[0m\u001b[0;34m(\u001b[0m\u001b[0;36m5\u001b[0m\u001b[0;34m)\u001b[0m\u001b[0;34m:\u001b[0m\u001b[0;34m\u001b[0m\u001b[0;34m\u001b[0m\u001b[0m\n\u001b[1;32m     25\u001b[0m     \u001b[0;32mfor\u001b[0m \u001b[0my\u001b[0m \u001b[0;32min\u001b[0m \u001b[0mrange\u001b[0m\u001b[0;34m(\u001b[0m\u001b[0;36m5\u001b[0m\u001b[0;34m)\u001b[0m\u001b[0;34m:\u001b[0m\u001b[0;34m\u001b[0m\u001b[0;34m\u001b[0m\u001b[0m\n\u001b[0;32m---> 26\u001b[0;31m         \u001b[0mdfs_stack\u001b[0m\u001b[0;34m(\u001b[0m\u001b[0mx\u001b[0m\u001b[0;34m,\u001b[0m\u001b[0my\u001b[0m\u001b[0;34m)\u001b[0m\u001b[0;34m\u001b[0m\u001b[0;34m\u001b[0m\u001b[0m\n\u001b[0m\u001b[1;32m     27\u001b[0m \u001b[0;31m# 정답 출력\u001b[0m\u001b[0;34m\u001b[0m\u001b[0;34m\u001b[0m\u001b[0m\n\u001b[1;32m     28\u001b[0m \u001b[0mprint\u001b[0m\u001b[0;34m(\u001b[0m\u001b[0mlen\u001b[0m\u001b[0;34m(\u001b[0m\u001b[0mnumbers\u001b[0m\u001b[0;34m)\u001b[0m\u001b[0;34m)\u001b[0m\u001b[0;34m\u001b[0m\u001b[0;34m\u001b[0m\u001b[0m\n",
            "\u001b[0;32m<ipython-input-25-91b4c272841c>\u001b[0m in \u001b[0;36mdfs_stack\u001b[0;34m(x, y)\u001b[0m\n\u001b[1;32m     14\u001b[0m                 \u001b[0mnumbers\u001b[0m\u001b[0;34m.\u001b[0m\u001b[0madd\u001b[0m\u001b[0;34m(\u001b[0m\u001b[0mnum\u001b[0m\u001b[0;34m)\u001b[0m\u001b[0;34m\u001b[0m\u001b[0;34m\u001b[0m\u001b[0m\n\u001b[1;32m     15\u001b[0m                 \u001b[0;32mcontinue\u001b[0m\u001b[0;34m\u001b[0m\u001b[0;34m\u001b[0m\u001b[0m\n\u001b[0;32m---> 16\u001b[0;31m         \u001b[0mnew_num\u001b[0m \u001b[0;34m=\u001b[0m \u001b[0mnum\u001b[0m\u001b[0;34m*\u001b[0m\u001b[0;36m10\u001b[0m\u001b[0;34m+\u001b[0m\u001b[0mboard\u001b[0m\u001b[0;34m[\u001b[0m\u001b[0mnext_x\u001b[0m\u001b[0;34m]\u001b[0m\u001b[0;34m[\u001b[0m\u001b[0mnext_y\u001b[0m\u001b[0;34m]\u001b[0m\u001b[0;34m\u001b[0m\u001b[0;34m\u001b[0m\u001b[0m\n\u001b[0m\u001b[1;32m     17\u001b[0m         \u001b[0mstack\u001b[0m\u001b[0;34m.\u001b[0m\u001b[0mappend\u001b[0m\u001b[0;34m(\u001b[0m\u001b[0;34m[\u001b[0m\u001b[0mnext_x\u001b[0m \u001b[0;34m+\u001b[0m \u001b[0;36m1\u001b[0m\u001b[0;34m,\u001b[0m \u001b[0mnext_y\u001b[0m\u001b[0;34m,\u001b[0m \u001b[0mdepth\u001b[0m \u001b[0;34m+\u001b[0m\u001b[0;36m1\u001b[0m\u001b[0;34m,\u001b[0m \u001b[0mnew_num\u001b[0m\u001b[0;34m]\u001b[0m\u001b[0;34m)\u001b[0m\u001b[0;34m\u001b[0m\u001b[0;34m\u001b[0m\u001b[0m\n\u001b[1;32m     18\u001b[0m         \u001b[0mstack\u001b[0m\u001b[0;34m.\u001b[0m\u001b[0mappend\u001b[0m\u001b[0;34m(\u001b[0m\u001b[0;34m[\u001b[0m\u001b[0mnext_x\u001b[0m \u001b[0;34m-\u001b[0m \u001b[0;36m1\u001b[0m\u001b[0;34m,\u001b[0m \u001b[0mnext_y\u001b[0m\u001b[0;34m,\u001b[0m \u001b[0mdepth\u001b[0m \u001b[0;34m+\u001b[0m\u001b[0;36m1\u001b[0m\u001b[0;34m,\u001b[0m \u001b[0mnew_num\u001b[0m\u001b[0;34m]\u001b[0m\u001b[0;34m)\u001b[0m\u001b[0;34m\u001b[0m\u001b[0;34m\u001b[0m\u001b[0m\n",
            "\u001b[0;31mIndexError\u001b[0m: list index out of range"
          ]
        }
      ]
    },
    {
      "cell_type": "markdown",
      "source": [
        "3. 미로탐색\n"
      ],
      "metadata": {
        "id": "8vcYmwRW_LY3"
      }
    },
    {
      "cell_type": "code",
      "source": [
        "# bfs\n",
        "# 칸을 셀 때에는 시작 위치와 도착 위치도 포함한다.\n"
      ],
      "metadata": {
        "id": "X5NUQuhe7btu"
      },
      "execution_count": null,
      "outputs": []
    }
  ]
}