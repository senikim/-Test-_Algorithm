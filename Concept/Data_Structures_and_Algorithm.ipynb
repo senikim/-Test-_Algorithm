{
  "nbformat": 4,
  "nbformat_minor": 0,
  "metadata": {
    "colab": {
      "provenance": [],
      "authorship_tag": "ABX9TyOW4x8TYOhpeeygwgbPzGKD"
    },
    "kernelspec": {
      "name": "python3",
      "display_name": "Python 3"
    },
    "language_info": {
      "name": "python"
    }
  },
  "cells": [
    {
      "cell_type": "markdown",
      "source": [
        "# 참고자료\n",
        "#### 파이썬 알고리즘 인터뷰\n",
        "> 95가지 알고리즘 문제 풀이로 완성하는 코딩 테스트\n",
        ">\n",
        "> 박상길\n",
        "\n",
        "#### 쓰면서 익히는 알고리즘과 자료구조\n",
        "> 윤대석"
      ],
      "metadata": {
        "id": "vwp-7qptm9A7"
      }
    },
    {
      "cell_type": "markdown",
      "source": [
        "## 자료구조 (Data Structures)"
      ],
      "metadata": {
        "id": "kh384zySncMY"
      }
    },
    {
      "cell_type": "markdown",
      "source": [
        "### 0. 복잡도"
      ],
      "metadata": {
        "id": "eUrQI_TIzYq8"
      }
    },
    {
      "cell_type": "code",
      "source": [
        "j = 0\n",
        "for i in range(N):\n",
        "  j += i\n",
        "# [시간복잡도 = O(N)]\n",
        "# [N까지 반복]\n",
        "\n",
        "k = 0\n",
        "for i in range(N):\n",
        "  for j in range(N):\n",
        "    k = i+j\n",
        "for i in range(N):\n",
        "  k += i\n",
        "# [시간복잡도 = O(N^2+N)]\n",
        "# [for문 안에 2번 반복 = N*N + 다른 for문 추가 = N]\n",
        "\n",
        "i = 0\n",
        "k = 0\n",
        "for i in range(int(n/2), n+1):\n",
        "  j = 2\n",
        "  while j <= n:\n",
        "    k = k + int(n/2)\n",
        "    j = j*2\n",
        "# [시간복잡도 = O(n/2 * log(n))]\n",
        "# [i = n/2만큼 수행 * j = log(n)만큼 수행]"
      ],
      "metadata": {
        "id": "tFjf_clezbDc"
      },
      "execution_count": null,
      "outputs": []
    },
    {
      "cell_type": "markdown",
      "source": [
        "### 1. 배열"
      ],
      "metadata": {
        "id": "h8lEYbsBm3xP"
      }
    },
    {
      "cell_type": "code",
      "source": [
        "# 정렬된 배열에서 중복제거\n",
        "def removeDuplicates(nums: list[int]):\n",
        "  if len(nums) <= 0:\n",
        "    return 0\n",
        "  curr = nums[0]\n",
        "  cnt = 1\n",
        "  for i in range(1, len(nums)):\n",
        "    if curr != nums[i]:\n",
        "      curr = nums[i]\n",
        "      nums[cnt] = curr\n",
        "        # [nums의 cnt번째 원소값을 curr값으로 변환 e.g: nums[0]=그대로, nums[1], nums[2], ... ,nums[cnt] = 중복되지 않은 curr값]\n",
        "        # [만약 cnt < len(nums)이면 앞에 cnt길이 만큼만 curr값으로 바뀌고 뒤에는 그대로이다.]\n",
        "      cnt += 1\n",
        "        # [다음 for문 회차에서는 cnt가 1씩 증가한 상태로 진행 (만약 curr != nums[i]이면)]\n",
        "  return cnt"
      ],
      "metadata": {
        "id": "39JXDOEzm-mB"
      },
      "execution_count": null,
      "outputs": []
    },
    {
      "cell_type": "code",
      "source": [
        "removeDuplicates(nums = [0,0,1,1,1,2])"
      ],
      "metadata": {
        "colab": {
          "base_uri": "https://localhost:8080/"
        },
        "id": "D3Epj7b5QJCD",
        "outputId": "8c8a2942-8626-4583-e1e5-0cec066ae254"
      },
      "execution_count": null,
      "outputs": [
        {
          "output_type": "execute_result",
          "data": {
            "text/plain": [
              "3"
            ]
          },
          "metadata": {},
          "execution_count": 30
        }
      ]
    },
    {
      "cell_type": "code",
      "source": [
        "# 정렬된 배열에서 삽입 위치 찾기\n",
        "# 1) 경우의 수\n",
        "def searchInsert(nums: list[int], target: int):\n",
        "  index = 0\n",
        "  while index < len(nums):\n",
        "    if target <= nums[index]:\n",
        "      break\n",
        "    index += 1\n",
        "  return index\n",
        "\n",
        "# [시간복잡도 : O(N) ; n번 순회하면서 break 지점 찾기 때문]"
      ],
      "metadata": {
        "id": "FqPVzXGfcKKb"
      },
      "execution_count": null,
      "outputs": []
    },
    {
      "cell_type": "code",
      "source": [
        "searchInsert(nums = [1,3,5,6], target = 0)\n",
        "  # [0]\n",
        "searchInsert(nums = [1,3,5,6], target = 100)\n",
        "  # [4]\n",
        "searchInsert(nums= [1,3,4,5], target = 2)\n",
        "  # [1]"
      ],
      "metadata": {
        "colab": {
          "base_uri": "https://localhost:8080/"
        },
        "id": "7I-oY4UTdnq7",
        "outputId": "d446f948-7528-4d8c-d7b9-ac36c094c437"
      },
      "execution_count": null,
      "outputs": [
        {
          "output_type": "execute_result",
          "data": {
            "text/plain": [
              "1"
            ]
          },
          "metadata": {},
          "execution_count": 38
        }
      ]
    },
    {
      "cell_type": "code",
      "source": [
        "# 2) 이진탐색\n",
        "# low, mid, high\n",
        "#   (1) low1 = 0, high1 = len(nums)-1,  mid1 = (low+high)/2\n",
        "#   (2) arr[mid1] > target : low2 = 0, high2 = mid1-1, mid2 = (low2+high2)/2\n",
        "#   (3) arr[mid2] < target : low3 = mid2+1, high3 = len(nums)-1, mid3 = (low3+high3)/2\n",
        "\n",
        "def searchInsert_ver2(nums: list[int], target: int):\n",
        "  low = 0\n",
        "  high = len(nums)-1\n",
        "    # [디폴트 : 전체 원소]\n",
        "\n",
        "  while low <= high:\n",
        "    mid = int((low+high)/2)\n",
        "      # [디폴트 : 전체에서 mid 값 구하기]\n",
        "      # [mid는 어느때나 (low+high)/2 이기 때문에 if에 넣지 않고 while 바로 이후에 적음]\n",
        "\n",
        "    if target == nums[mid]:\n",
        "      return mid\n",
        "\n",
        "    if target > nums[mid]:\n",
        "      low = mid+1\n",
        "        # [디폴트 상태를 절반으로 나눈 것 중 상위 부분에서 target 찾기]\n",
        "        # [high = len(nums)-1]\n",
        "\n",
        "    else:\n",
        "      high = mid-1\n",
        "        # [디폴트 상태를 절반으로 나눈 것 중 하위 부분에서 target 찾기]\n",
        "        # [low = 0]\n",
        "\n",
        "  return low\n",
        "    # [? : 왜 low를 return하는지 모르겠음]\n",
        "\n",
        "# [시간복잡도 : O(logN) ; 이진탐색이기 때문]"
      ],
      "metadata": {
        "id": "YsxJTefIeQvr"
      },
      "execution_count": null,
      "outputs": []
    },
    {
      "cell_type": "code",
      "source": [
        "searchInsert_ver2(nums = [1,3,5,6], target = 0)\n",
        "  # [0]\n",
        "searchInsert_ver2(nums= [1,3,4,5,6,7,8], target = 2)\n",
        "  # [1]"
      ],
      "metadata": {
        "colab": {
          "base_uri": "https://localhost:8080/"
        },
        "id": "Y_1vFFjbmOzM",
        "outputId": "ee4f196b-72a9-4aac-e2c6-06c468feadb6"
      },
      "execution_count": null,
      "outputs": [
        {
          "output_type": "execute_result",
          "data": {
            "text/plain": [
              "0"
            ]
          },
          "metadata": {},
          "execution_count": 41
        }
      ]
    },
    {
      "cell_type": "markdown",
      "source": [
        "### 2. 스택, 큐\n",
        "\n",
        "- 스택(stack) : 선입후출, 후입선출 ; 뺄 때 제일 나중에 들어간거 제일 먼저 뺌 (e.g. 택배 상하차)\n",
        "- 큐(que) : 선입선출, 먼저 들어간 거 제일 먼저 뺌 (e.g. 은행 창구)"
      ],
      "metadata": {
        "id": "YYY3KJhVm8DW"
      }
    },
    {
      "cell_type": "code",
      "source": [
        "def twoSum(self, nums: list[int], target: int) -> list[int]:\n",
        "  for i, n in enumerate(nums):\n",
        "    c = target-n\n",
        "\n",
        "    if c in nums[i+1:]:\n",
        "      return [nums.index(n), nums[i+1:].index(c)+(i+1)]"
      ],
      "metadata": {
        "id": "MnshcbOsskLi"
      },
      "execution_count": null,
      "outputs": []
    },
    {
      "cell_type": "code",
      "source": [
        "twoSum(nums = [2,7,11,15], target = 9)"
      ],
      "metadata": {
        "colab": {
          "base_uri": "https://localhost:8080/"
        },
        "id": "mdoZn5IUwG16",
        "outputId": "73168bbd-162f-43b6-f12b-f82360b71c09"
      },
      "execution_count": null,
      "outputs": [
        {
          "output_type": "execute_result",
          "data": {
            "text/plain": [
              "[0, 1]"
            ]
          },
          "metadata": {},
          "execution_count": 16
        }
      ]
    },
    {
      "cell_type": "code",
      "source": [
        "def twoSum_ver2(self, nums: list[int], target: int)->list[int]:\n",
        "  nums_map = {}"
      ],
      "metadata": {
        "id": "ql6dJfMTwSu1"
      },
      "execution_count": null,
      "outputs": []
    },
    {
      "cell_type": "markdown",
      "source": [
        "### 3. 검색 알고리즘\n",
        "원하는 값을 가진 원소를 찾아내는 알고리즘\n",
        "\n",
        "키 : 주목하는 항목, 검색하는 항목\n",
        "\n",
        "1. 배열 검색\n",
        "  - 선형 검색 : 무작위로 늘어놓은 데이터 집합에서 검색 수행\n",
        "  - 이진 검색 : **일정한 규칙**으로 늘어놓은 데이터 집합에서 아주 빠른 검색 수행\n",
        "  - 해시법 : **추가, 삭제**가 자주 일어나는 데이터 집합에서 아주 빠른 검색 수행\n",
        "2. 연결 리스트 검색\n",
        "3. 이진 검색 트리"
      ],
      "metadata": {
        "id": "-Y3ftTUlr9km"
      }
    },
    {
      "cell_type": "code",
      "source": [
        "# (1) 선형 검색 : 직선 형태로 늘어난 집합에서 앞에서부터 순서대로 스캔\n",
        "# 배열 원소의 개수가 n이라면 이 조건(검색실패, 검색성공)*을 판단하는 횟수는 평균 n/2\n",
        "# * 검색실패 : 검색할 값을 찾지 못하고 배열의 맨 끝을 지난 경우\n",
        "# * 검색성공 : 검색할 값과 같은 원소 찾는 경우\n",
        "\n",
        "# 배열 a에서 검색하는 알고리즘\n",
        "i = 0\n",
        "  # 스캔할 때 주목하는 원소의 인덱스\n",
        "while True:\n",
        "  if i == len(a):\n",
        "    # 검색 실패\n",
        "  if a[i] == key:\n",
        "    # 검색 성공 (찾은 원소의 인덱스 = i)\n",
        "  i += 1\n",
        "\n",
        "# for문으로 변경\n",
        "for i in range(len(a)):\n",
        "  if a[i] == key:\n",
        "    return i\n",
        "  return -1\n"
      ],
      "metadata": {
        "id": "Sdg853kxvvhf"
      },
      "execution_count": null,
      "outputs": []
    },
    {
      "cell_type": "code",
      "source": [
        "# (2) 이진 검색 : 원소가 오름차순/내림차순으로 정렬된 배열에서 좀 더 효율적으로 검색 가능\n",
        "# 검색범위의 맨 앞(pl), 중앙(pc), 맨 끝(pr) 값을 매번 설정 -> 검색 속도 높임\n",
        "# a[pc] < key : 오른쪽으로 한칸 이동, 새로운 왼쪽 끝 값 = pl\n",
        "# a[pc] > key : 왼쪽으로 한칸 이동, 새로운 오른쪽 끝 값 = pr\n",
        "# 종료 조건 : 1) a[pc] == key (중앙값 == key), 2) 검색 범위가 없는 경우\n",
        "\n",
        "from typing import Any, Sequence\n",
        "\n",
        "def bin_search(a: Sequence, key: Any):\n",
        "  pl = 0\n",
        "  pr = len(a)-1\n",
        "\n",
        "  while True:\n",
        "    pc = (pl+pr)//2\n",
        "    if pc == key:\n",
        "      return pc\n",
        "    elif pc < key:\n",
        "      # [오른쪽으로 이동]\n",
        "      pl = pc + 1\n",
        "    else:\n",
        "      pr = pc - 1\n",
        "\n",
        "    if pl > pr:\n",
        "      # [검색 범위가 없음 ; 종료조건2]\n",
        "      break\n",
        "    return -1\n"
      ],
      "metadata": {
        "id": "q2qKRVjJxEi_"
      },
      "execution_count": 1,
      "outputs": []
    },
    {
      "cell_type": "code",
      "source": [
        "if __name__ == '__main__':\n",
        "  num = int(input('원소 수를 입력하세요 : '))\n",
        "  x = [None] * num\n",
        "    # [원소 수가 num인 배열 생성]\n",
        "\n",
        "  print('배열 데이터를 오름차순으로 입력하세요.')\n",
        "\n",
        "  x[0] = int(input('x[0]: '))\n",
        "  for i in range(1, num):\n",
        "    while True:\n",
        "      x[i] = int(input(f'x[{i}]: '))\n",
        "        # 배열 x에 들어갈 원소를 하나씩 입력\n",
        "      if x[i] >= x[i-1]:\n",
        "        # [바로 직전에 입력한 원솟값보다 큰 값을 입력]\n",
        "        break\n",
        "\n",
        "  ky = int(input('검색할 값을 입력하세요 :'))\n",
        "\n",
        "  idx = bin_search(x, ky)\n",
        "\n",
        "  if idx == -1:\n",
        "    print('검색값을 갖는 원소가 존재하지 않습니다.')\n",
        "  else:\n",
        "    print(f'검색값은 x[{idx}]에 있습니다.')\n",
        "\n",
        "# 비교 횟수 : 평균 logN"
      ],
      "metadata": {
        "colab": {
          "base_uri": "https://localhost:8080/"
        },
        "id": "InlWfLKXzR8N",
        "outputId": "8ac50ce8-4fbe-426d-b8be-a7df743e2fd8"
      },
      "execution_count": 6,
      "outputs": [
        {
          "output_type": "stream",
          "name": "stdout",
          "text": [
            "원소 수를 입력하세요 : 7\n",
            "배열 데이터를 오름차순으로 입력하세요.\n",
            "x[0]: 1\n",
            "x[1]: 2\n",
            "x[2]: 3\n",
            "x[3]: 4\n",
            "x[4]: 5\n",
            "x[5]: 6\n",
            "x[6]: 7\n",
            "검색할 값을 입력하세요 :3\n",
            "검색값은 x[3]에 있습니다.\n"
          ]
        }
      ]
    },
    {
      "cell_type": "code",
      "source": [],
      "metadata": {
        "id": "wO_m6KN-0XlR"
      },
      "execution_count": null,
      "outputs": []
    }
  ]
}