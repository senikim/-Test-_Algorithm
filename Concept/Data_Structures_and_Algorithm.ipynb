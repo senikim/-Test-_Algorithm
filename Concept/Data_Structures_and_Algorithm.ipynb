{
  "nbformat": 4,
  "nbformat_minor": 0,
  "metadata": {
    "colab": {
      "provenance": [],
      "authorship_tag": "ABX9TyORb7D1BNyCdMh6PE0R+R6t"
    },
    "kernelspec": {
      "name": "python3",
      "display_name": "Python 3"
    },
    "language_info": {
      "name": "python"
    }
  },
  "cells": [
    {
      "cell_type": "markdown",
      "source": [
        "# 파이썬 알고리즘 인터뷰\n",
        "> 95가지 알고리즘 문제 풀이로 완성하는 코딩 테스트\n",
        ">\n",
        "> 박상길\n",
        "\n",
        "# 쓰면서 익히는 알고리즘과 자료구조\n",
        "> 윤대석"
      ],
      "metadata": {
        "id": "vwp-7qptm9A7"
      }
    },
    {
      "cell_type": "markdown",
      "source": [
        "## 자료구조 (Data Structures)"
      ],
      "metadata": {
        "id": "kh384zySncMY"
      }
    },
    {
      "cell_type": "markdown",
      "source": [
        "### 0. 복잡도"
      ],
      "metadata": {
        "id": "eUrQI_TIzYq8"
      }
    },
    {
      "cell_type": "code",
      "source": [
        "j = 0\n",
        "for i in range(N):\n",
        "  j += i\n",
        "# [시간복잡도 = O(N)]\n",
        "# [N까지 반복]\n",
        "\n",
        "k = 0\n",
        "for i in range(N):\n",
        "  for j in range(N):\n",
        "    k = i+j\n",
        "for i in range(N):\n",
        "  k += i\n",
        "# [시간복잡도 = O(N^2+N)]\n",
        "# [for문 안에 2번 반복 = N*N + 다른 for문 추가 = N]\n",
        "\n",
        "i = 0\n",
        "k = 0\n",
        "for i in range(int(n/2), n+1):\n",
        "  j = 2\n",
        "  while j <= n:\n",
        "    k = k + int(n/2)\n",
        "    j = j*2\n",
        "# [시간복잡도 = O(n/2 * log(n))]\n",
        "# [i = n/2만큼 수행 * j = log(n)만큼 수행]"
      ],
      "metadata": {
        "id": "tFjf_clezbDc"
      },
      "execution_count": null,
      "outputs": []
    },
    {
      "cell_type": "markdown",
      "source": [
        "### 1. 배열"
      ],
      "metadata": {
        "id": "h8lEYbsBm3xP"
      }
    },
    {
      "cell_type": "code",
      "source": [
        "# 정렬된 배열에서 중복제거\n",
        "def removeDuplicates(nums: list[int]):\n",
        "  if len(nums) <= 0:\n",
        "    return 0\n",
        "  curr = nums[0]\n",
        "  cnt = 1\n",
        "  for i in range(1, len(nums)):\n",
        "    if curr != nums[i]:\n",
        "      curr = nums[i]\n",
        "      nums[cnt] = curr\n",
        "        # [nums의 cnt번째 원소값을 curr값으로 변환 e.g: nums[0]=그대로, nums[1], nums[2], ... ,nums[cnt] = 중복되지 않은 curr값]\n",
        "        # [만약 cnt < len(nums)이면 앞에 cnt길이 만큼만 curr값으로 바뀌고 뒤에는 그대로이다.]\n",
        "      cnt += 1\n",
        "        # [다음 for문 회차에서는 cnt가 1씩 증가한 상태로 진행 (만약 curr != nums[i]이면)]\n",
        "  return cnt"
      ],
      "metadata": {
        "id": "39JXDOEzm-mB"
      },
      "execution_count": 29,
      "outputs": []
    },
    {
      "cell_type": "code",
      "source": [
        "removeDuplicates(nums = [0,0,1,1,1,2])"
      ],
      "metadata": {
        "colab": {
          "base_uri": "https://localhost:8080/"
        },
        "id": "D3Epj7b5QJCD",
        "outputId": "8c8a2942-8626-4583-e1e5-0cec066ae254"
      },
      "execution_count": 30,
      "outputs": [
        {
          "output_type": "execute_result",
          "data": {
            "text/plain": [
              "3"
            ]
          },
          "metadata": {},
          "execution_count": 30
        }
      ]
    },
    {
      "cell_type": "markdown",
      "source": [
        "### 2. 스택, 큐"
      ],
      "metadata": {
        "id": "YYY3KJhVm8DW"
      }
    },
    {
      "cell_type": "code",
      "source": [
        "def twoSum(self, nums: list[int], target: int) -> list[int]:\n",
        "  for i, n in enumerate(nums):\n",
        "    c = target-n\n",
        "\n",
        "    if c in nums[i+1:]:\n",
        "      return [nums.index(n), nums[i+1:].index(c)+(i+1)]"
      ],
      "metadata": {
        "id": "MnshcbOsskLi"
      },
      "execution_count": 15,
      "outputs": []
    },
    {
      "cell_type": "code",
      "source": [
        "twoSum(nums = [2,7,11,15], target = 9)"
      ],
      "metadata": {
        "colab": {
          "base_uri": "https://localhost:8080/"
        },
        "id": "mdoZn5IUwG16",
        "outputId": "73168bbd-162f-43b6-f12b-f82360b71c09"
      },
      "execution_count": 16,
      "outputs": [
        {
          "output_type": "execute_result",
          "data": {
            "text/plain": [
              "[0, 1]"
            ]
          },
          "metadata": {},
          "execution_count": 16
        }
      ]
    },
    {
      "cell_type": "code",
      "source": [
        "def twoSum_ver2(self, nums: list[int], target: int)->list[int]:\n",
        "  nums_map = {}"
      ],
      "metadata": {
        "id": "ql6dJfMTwSu1"
      },
      "execution_count": null,
      "outputs": []
    }
  ]
}